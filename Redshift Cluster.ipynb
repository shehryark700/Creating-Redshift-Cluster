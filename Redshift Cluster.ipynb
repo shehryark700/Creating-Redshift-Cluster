{
 "cells": [
  {
   "cell_type": "code",
   "execution_count": 2,
   "id": "b31234cf",
   "metadata": {},
   "outputs": [],
   "source": [
    "import boto3\n",
    "import pandas as pd\n",
    "import json\n",
    "import psycopg2"
   ]
  },
  {
   "cell_type": "code",
   "execution_count": 3,
   "id": "d55094e2",
   "metadata": {},
   "outputs": [],
   "source": [
    "#read config file\n",
    "\n",
    "import configparser\n",
    "config = configparser.ConfigParser()\n",
    "config.read_file(open(\"F:\\\\Projects\\\\Redshift_Cluster\\\\details.config\"))"
   ]
  },
  {
   "cell_type": "code",
   "execution_count": 4,
   "id": "502c01f1",
   "metadata": {},
   "outputs": [
    {
     "data": {
      "text/plain": [
       "('awsuser', 'Passw0rd123', 'myfirstdb')"
      ]
     },
     "execution_count": 4,
     "metadata": {},
     "output_type": "execute_result"
    }
   ],
   "source": [
    "#set values in variables by providing section name and desired value\n",
    "\n",
    "key = config.get(\"AWS\",\"key\")\n",
    "secret = config.get(\"AWS\",\"secret\")\n",
    "\n",
    "DWH_CLUSTER_TYPE = config.get(\"DWH\",\"DWH_CLUSTER_TYPE\")\n",
    "DWH_NUM_NODES = config.get(\"DWH\",\"DWH_NUM_NODES\")\n",
    "DWH_NODE_TYPE = config.get(\"DWH\",\"DWH_NODE_TYPE\")\n",
    "DWH_CLUSTER_IDENTIFIER = config.get(\"DWH\",\"DWH_CLUSTER_IDENTIFIER\")\n",
    "DWH_DB = config.get(\"DWH\",\"DWH_DB\")\n",
    "DWH_DB_USER = config.get(\"DWH\",\"DWH_DB_USER\")\n",
    "DWH_DB_PASSWORD= config.get(\"DWH\",\"DWH_DB_PASSWORD\")\n",
    "DWH_PORT = config.get(\"DWH\",\"DWH_PORT\")\n",
    "DWH_IAM_ROLE_NAME =config.get(\"DWH\",\"DWH_IAM_ROLE_NAME\")\n",
    "\n",
    "(DWH_DB_USER, DWH_DB_PASSWORD, DWH_DB)"
   ]
  },
  {
   "cell_type": "code",
   "execution_count": 5,
   "id": "23707ef8",
   "metadata": {},
   "outputs": [],
   "source": [
    "#create connection with aws\n",
    "\n",
    "ec2 = boto3.resource(\"ec2\",\n",
    "                    region_name=\"us-east-1\",\n",
    "                    aws_access_key_id=key,\n",
    "                    aws_secret_access_key=secret)"
   ]
  },
  {
   "cell_type": "code",
   "execution_count": 6,
   "id": "8a2bb742",
   "metadata": {},
   "outputs": [],
   "source": [
    "s3 = boto3.resource(\"s3\",\n",
    "                    region_name=\"us-east-1\",\n",
    "                    aws_access_key_id=key,\n",
    "                    aws_secret_access_key=secret)\n",
    "\n",
    "iam = boto3.client(\"iam\",\n",
    "                    region_name=\"us-east-1\",\n",
    "                    aws_access_key_id=key,\n",
    "                    aws_secret_access_key=secret)\n",
    "\n",
    "redshift = boto3.client(\"redshift\",\n",
    "                    region_name=\"us-east-1\",\n",
    "                    aws_access_key_id=key,\n",
    "                    aws_secret_access_key=secret)"
   ]
  },
  {
   "cell_type": "code",
   "execution_count": 23,
   "id": "7a29a9f9",
   "metadata": {},
   "outputs": [
    {
     "data": {
      "text/plain": [
       "['allevents_pipe.txt',\n",
       " 'allusers_pipe.txt',\n",
       " 'category_pipe.txt',\n",
       " 'date2008_pipe.txt',\n",
       " 'listings_pipe.txt',\n",
       " 'sales_tab.txt',\n",
       " 'venue_pipe.txt']"
      ]
     },
     "execution_count": 23,
     "metadata": {},
     "output_type": "execute_result"
    }
   ],
   "source": [
    "#get the value from s3 bucket\n",
    "bucket = s3.Bucket(\"shehry-test\")\n",
    "log_data_files = [filename.key for filename in bucket.objects.filter(Prefix=\"\")]\n",
    "log_data_files"
   ]
  },
  {
   "cell_type": "code",
   "execution_count": 8,
   "id": "eb2787e7",
   "metadata": {},
   "outputs": [],
   "source": [
    "#iam role access to redshift-s3 buckets\n",
    "\n",
    "roleArn = iam.get_role(RoleName=DWH_IAM_ROLE_NAME)[\"Role\"][\"Arn\"]"
   ]
  },
  {
   "cell_type": "code",
   "execution_count": null,
   "id": "5452f74c",
   "metadata": {},
   "outputs": [],
   "source": [
    "#creating redshift cluster\n",
    "\n",
    "try:\n",
    "    response = redshift.create_cluster(\n",
    "    ClusterType = DWH_CLUSTER_TYPE,\n",
    "    NodeType = DWH_NODE_TYPE,\n",
    "        #identifiers & credentials\n",
    "    DBName = DWH_DB,\n",
    "    ClusterIdentifier = DWH_CLUSTER_IDENTIFIER,\n",
    "    MasterUsername = DWH_DB_USER,\n",
    "    MasterUserPassword = DWH_DB_PASSWORD,\n",
    "        #roles for s3 access\n",
    "    IamRoles =[roleArn]\n",
    "    )\n",
    "except Exception as e:\n",
    "    print(e)"
   ]
  },
  {
   "cell_type": "code",
   "execution_count": 9,
   "id": "fd791e62",
   "metadata": {},
   "outputs": [
    {
     "data": {
      "text/plain": [
       "{'Clusters': [{'ClusterIdentifier': 'my-first-redshift',\n",
       "   'NodeType': 'dc2.large',\n",
       "   'ClusterStatus': 'available',\n",
       "   'ClusterAvailabilityStatus': 'Available',\n",
       "   'MasterUsername': 'awsuser',\n",
       "   'DBName': 'myfirstdb',\n",
       "   'Endpoint': {'Address': 'my-first-redshift.czehrwblbatq.us-east-1.redshift.amazonaws.com',\n",
       "    'Port': 5439},\n",
       "   'ClusterCreateTime': datetime.datetime(2023, 3, 19, 22, 41, 42, 934000, tzinfo=tzutc()),\n",
       "   'AutomatedSnapshotRetentionPeriod': 1,\n",
       "   'ManualSnapshotRetentionPeriod': -1,\n",
       "   'ClusterSecurityGroups': [],\n",
       "   'VpcSecurityGroups': [{'VpcSecurityGroupId': 'sg-00c9a3ca98f432845',\n",
       "     'Status': 'active'}],\n",
       "   'ClusterParameterGroups': [{'ParameterGroupName': 'default.redshift-1.0',\n",
       "     'ParameterApplyStatus': 'in-sync'}],\n",
       "   'ClusterSubnetGroupName': 'default',\n",
       "   'VpcId': 'vpc-0446f2b750060a6e6',\n",
       "   'AvailabilityZone': 'us-east-1e',\n",
       "   'PreferredMaintenanceWindow': 'sun:04:30-sun:05:00',\n",
       "   'PendingModifiedValues': {},\n",
       "   'ClusterVersion': '1.0',\n",
       "   'AllowVersionUpgrade': True,\n",
       "   'NumberOfNodes': 1,\n",
       "   'PubliclyAccessible': True,\n",
       "   'Encrypted': False,\n",
       "   'ClusterPublicKey': 'ssh-rsa AAAAB3NzaC1yc2EAAAADAQABAAABAQCIuzvLEA3OuOpOuBybPa3PaEHFGY8V2A/YoKKh8H2qYUmjO2540srXCXt1zjSoQ87mzcMQ3gDZhgwsaTvBnWp6AbgC0zSeft44a4qXzgBbOb6a+91BLsDTH3hzP7XqaQrce2XDmhaVE+YVbKHrxo9I4QEG4sSkugkgT69Ikekc4hFYxh92bb16ohA1Bp6bjIcH+P9aFc16aWxQtDubMgUDM6srveuVSRedondtpU5k6158g09XSCduj7cVXdwUVFy2nSPr5xDxs14Ebyy1Foll2HzQyhDxSkYSHB2DuZhLd72Z2K5hhu5Sq/UGYeJ74jau9540ghIbs5QYOPG+84mV Amazon-Redshift\\n',\n",
       "   'ClusterNodes': [{'NodeRole': 'SHARED',\n",
       "     'PrivateIPAddress': '172.31.50.165',\n",
       "     'PublicIPAddress': '44.199.80.41'}],\n",
       "   'ClusterRevisionNumber': '47357',\n",
       "   'Tags': [],\n",
       "   'EnhancedVpcRouting': False,\n",
       "   'IamRoles': [{'IamRoleArn': 'arn:aws:iam::509705555503:role/redshift-s3-access',\n",
       "     'ApplyStatus': 'in-sync'}],\n",
       "   'MaintenanceTrackName': 'current',\n",
       "   'DeferredMaintenanceWindows': [],\n",
       "   'NextMaintenanceWindowStartTime': datetime.datetime(2023, 3, 26, 4, 30, tzinfo=tzutc()),\n",
       "   'AvailabilityZoneRelocationStatus': 'disabled',\n",
       "   'ClusterNamespaceArn': 'arn:aws:redshift:us-east-1:509705555503:namespace:89446c63-386c-4bfb-a548-b4b359ca7184',\n",
       "   'TotalStorageCapacityInMegaBytes': 400000,\n",
       "   'AquaConfiguration': {'AquaStatus': 'disabled',\n",
       "    'AquaConfigurationStatus': 'auto'}}],\n",
       " 'ResponseMetadata': {'RequestId': 'e2132632-3292-42e5-9fb9-e5351e4810e0',\n",
       "  'HTTPStatusCode': 200,\n",
       "  'HTTPHeaders': {'x-amzn-requestid': 'e2132632-3292-42e5-9fb9-e5351e4810e0',\n",
       "   'content-type': 'text/xml',\n",
       "   'content-length': '4053',\n",
       "   'date': 'Tue, 21 Mar 2023 16:30:08 GMT'},\n",
       "  'RetryAttempts': 0}}"
      ]
     },
     "execution_count": 9,
     "metadata": {},
     "output_type": "execute_result"
    }
   ],
   "source": [
    "# by using this method all the details of cluster appeared\n",
    "\n",
    "redshift.describe_clusters(ClusterIdentifier=DWH_CLUSTER_IDENTIFIER)"
   ]
  },
  {
   "cell_type": "code",
   "execution_count": 10,
   "id": "1402c39a",
   "metadata": {},
   "outputs": [
    {
     "name": "stderr",
     "output_type": "stream",
     "text": [
      "<ipython-input-10-beb7e5e142ce>:4: FutureWarning: Passing a negative integer is deprecated in version 1.0 and will not be supported in future version. Instead, use None to not limit the column width.\n",
      "  pd.set_option(\"display.max_colwidth\", -1)\n"
     ]
    },
    {
     "data": {
      "text/html": [
       "<div>\n",
       "<style scoped>\n",
       "    .dataframe tbody tr th:only-of-type {\n",
       "        vertical-align: middle;\n",
       "    }\n",
       "\n",
       "    .dataframe tbody tr th {\n",
       "        vertical-align: top;\n",
       "    }\n",
       "\n",
       "    .dataframe thead th {\n",
       "        text-align: right;\n",
       "    }\n",
       "</style>\n",
       "<table border=\"1\" class=\"dataframe\">\n",
       "  <thead>\n",
       "    <tr style=\"text-align: right;\">\n",
       "      <th></th>\n",
       "      <th>key</th>\n",
       "      <th>values</th>\n",
       "    </tr>\n",
       "  </thead>\n",
       "  <tbody>\n",
       "    <tr>\n",
       "      <th>0</th>\n",
       "      <td>ClusterIdentifier</td>\n",
       "      <td>my-first-redshift</td>\n",
       "    </tr>\n",
       "    <tr>\n",
       "      <th>1</th>\n",
       "      <td>NodeType</td>\n",
       "      <td>dc2.large</td>\n",
       "    </tr>\n",
       "    <tr>\n",
       "      <th>2</th>\n",
       "      <td>ClusterStatus</td>\n",
       "      <td>available</td>\n",
       "    </tr>\n",
       "    <tr>\n",
       "      <th>3</th>\n",
       "      <td>MasterUsername</td>\n",
       "      <td>awsuser</td>\n",
       "    </tr>\n",
       "    <tr>\n",
       "      <th>4</th>\n",
       "      <td>DBName</td>\n",
       "      <td>myfirstdb</td>\n",
       "    </tr>\n",
       "    <tr>\n",
       "      <th>5</th>\n",
       "      <td>Endpoint</td>\n",
       "      <td>{'Address': 'my-first-redshift.czehrwblbatq.us-east-1.redshift.amazonaws.com', 'Port': 5439}</td>\n",
       "    </tr>\n",
       "    <tr>\n",
       "      <th>6</th>\n",
       "      <td>VpcId</td>\n",
       "      <td>vpc-0446f2b750060a6e6</td>\n",
       "    </tr>\n",
       "  </tbody>\n",
       "</table>\n",
       "</div>"
      ],
      "text/plain": [
       "                 key  \\\n",
       "0  ClusterIdentifier   \n",
       "1  NodeType            \n",
       "2  ClusterStatus       \n",
       "3  MasterUsername      \n",
       "4  DBName              \n",
       "5  Endpoint            \n",
       "6  VpcId               \n",
       "\n",
       "                                                                                         values  \n",
       "0  my-first-redshift                                                                             \n",
       "1  dc2.large                                                                                     \n",
       "2  available                                                                                     \n",
       "3  awsuser                                                                                       \n",
       "4  myfirstdb                                                                                     \n",
       "5  {'Address': 'my-first-redshift.czehrwblbatq.us-east-1.redshift.amazonaws.com', 'Port': 5439}  \n",
       "6  vpc-0446f2b750060a6e6                                                                         "
      ]
     },
     "execution_count": 10,
     "metadata": {},
     "output_type": "execute_result"
    }
   ],
   "source": [
    "#this function is used to show the key and values of the above cluster in dataframe\n",
    "\n",
    "def redshif(props):\n",
    "    pd.set_option(\"display.max_colwidth\", -1)\n",
    "    keysToShow=[\"ClusterIdentifier\",\"NodeType\",\"ClusterStatus\",\"MasterUsername\",\"DBName\",\"Endpoint\",\"VpcId\"]\n",
    "    x= [(k,v) for k,v in props.items() if k in keysToShow]\n",
    "    return pd.DataFrame(data=x, columns=[\"key\",\"values\"])\n",
    "\n",
    "mycluster=redshift.describe_clusters(ClusterIdentifier=DWH_CLUSTER_IDENTIFIER)[\"Clusters\"][0]\n",
    "redshif(mycluster)"
   ]
  },
  {
   "cell_type": "code",
   "execution_count": 37,
   "id": "f24d702a",
   "metadata": {},
   "outputs": [],
   "source": [
    "#retrieves information from mycluster and store in a variable\n",
    "\n",
    "DWH_ENDPOINT = mycluster[\"Endpoint\"][\"Address\"]\n",
    "DWH_ROLE_ARN = mycluster[\"IamRoles\"][0][\"IamRoleArn\"]\n",
    "DB_NAME = mycluster[\"DBName\"]\n",
    "DB_USER = mycluster[\"MasterUsername\"]"
   ]
  },
  {
   "cell_type": "code",
   "execution_count": 36,
   "id": "6ac115c8",
   "metadata": {},
   "outputs": [
    {
     "name": "stdout",
     "output_type": "stream",
     "text": [
      "ec2.SecurityGroup(id='sg-00c9a3ca98f432845')\n",
      "An error occurred (InvalidPermission.Duplicate) when calling the AuthorizeSecurityGroupIngress operation: the specified rule \"peer: 0.0.0.0/0, TCP, from port: 5439, to port: 5439, ALLOW\" already exists\n"
     ]
    }
   ],
   "source": [
    "try:\n",
    "    vpc = ec2.Vpc(id=mycluster[\"VpcId\"])  #get the vpc id\n",
    "    defaultSg = list(vpc.security_groups.all())[0]  # get the security groups present in vpc and store in variable\n",
    "    print(defaultSg)\n",
    "    #then adds a new inbound rule to the selected security group using the authorize_ingress()\n",
    "    defaultSg.authorize_ingress(\n",
    "    GroupName = defaultSg.group_name,\n",
    "    CidrIp = \"0.0.0.0/0\",\n",
    "    IpProtocol = \"TCP\",\n",
    "    FromPort = int(DWH_PORT),\n",
    "    ToPort = int(DWH_PORT)\n",
    "    )\n",
    "except Exception as e:\n",
    "    print(e)"
   ]
  },
  {
   "cell_type": "code",
   "execution_count": 13,
   "id": "a78a4f7d",
   "metadata": {},
   "outputs": [],
   "source": [
    "#creating connection with postgres\n",
    "\n",
    "try:\n",
    "    conn = psycopg2.connect(host=DWH_ENDPOINT,dbname=DB_NAME,user=DB_USER,password=\"Passw0rd123\",port=5439)\n",
    "except psycopg2.Error as e:\n",
    "    print(\"connection error with postgres\")\n",
    "    print(e)\n",
    "\n",
    "conn.set_session(autocommit=True)"
   ]
  },
  {
   "cell_type": "code",
   "execution_count": 14,
   "id": "79e1da28",
   "metadata": {},
   "outputs": [],
   "source": [
    "#create cursor it is used for execution of queries\n",
    "\n",
    "try:\n",
    "    cur = conn.cursor()\n",
    "except psycopg2.Error as e:\n",
    "    print(\"error occurred while creating cursor\")\n",
    "    print(e)"
   ]
  },
  {
   "cell_type": "code",
   "execution_count": 39,
   "id": "f4c65a7c",
   "metadata": {},
   "outputs": [],
   "source": [
    "#create table\n",
    "\n",
    "try:\n",
    "    cur.execute(\"\"\"create table users(\n",
    "userid integer not null distkey sortkey,\n",
    "username char(20),\n",
    "firstname varchar(20),\n",
    "lastname varchar(20),\n",
    "city varchar(20),\n",
    "state varchar(20),\n",
    "email varchar(50),\n",
    "phone char(14),\n",
    "likesports boolean,\n",
    "liketheatre boolean,\n",
    "likeconcerts boolean,\n",
    "likejazz boolean,\n",
    "likeclassical boolean,\n",
    "likeopera boolean,\n",
    "likerock boolean,\n",
    "likevegas boolean,\n",
    "likebroadway boolean,\n",
    "likemusical boolean);\"\"\")\n",
    "except psycopg2.Error as e:\n",
    "    print(\"error occurred while creating table\")\n",
    "    print(e)"
   ]
  },
  {
   "cell_type": "code",
   "execution_count": 40,
   "id": "e4976959",
   "metadata": {},
   "outputs": [],
   "source": [
    "try:\n",
    "    cur.execute(\"\"\"create table venue(\n",
    "    venueid smallint not null distkey sortkey,\n",
    "    venuename varchar(100),\n",
    "    venuecity varchar(50),\n",
    "    venuestate char(2),\n",
    "    venueseats integer);\"\"\")\n",
    "except psycopg2.Error as e:\n",
    "    print(\"error occurred while creating venue table\")\n",
    "    print(e)"
   ]
  },
  {
   "cell_type": "code",
   "execution_count": 42,
   "id": "1e5959b4",
   "metadata": {},
   "outputs": [],
   "source": [
    "try:\n",
    "    cur.execute(\"\"\"create table category(\n",
    "    catid smallint not null distkey sortkey,\n",
    "    catgroup varchar(10),\n",
    "    catname varchar(10),\n",
    "    catdesc varchar(50));\n",
    "    \n",
    "create table date(\n",
    "dateid smallint not null distkey sortkey,\n",
    "caldate date not null,\n",
    "day character(3) not null,\n",
    "week smallint not null,\n",
    "month character(3) not null,\n",
    "qtr character(5) not null,\n",
    "year smallint not null,\n",
    "holiday boolean default('N'));\n",
    "\n",
    "create table event(\n",
    "eventid integer not null distkey,\n",
    "venueid smallint not null,\n",
    "catid smallint not null,\n",
    "dateid smallint not null sortkey,\n",
    "eventname varchar(200),\n",
    "startime timestamp);\n",
    "\n",
    "create table listing(\n",
    "listid integer not null distkey,\n",
    "sellerid integer not null,\n",
    "eventid integer not null,\n",
    "dateid smallint not null sortkey,\n",
    "numtickets smallint not null,\n",
    "priceperticket decimal(8,2),\n",
    "totalprice decimal(8,2),\n",
    "listtime timestamp);\n",
    "    \"\"\")\n",
    "    \n",
    "except psycopg2.Error as e:\n",
    "    print(\"error occured\")\n",
    "    print(e)\n",
    "    "
   ]
  },
  {
   "cell_type": "code",
   "execution_count": 38,
   "id": "47e106b6",
   "metadata": {},
   "outputs": [
    {
     "name": "stdout",
     "output_type": "stream",
     "text": [
      "error occured while copying\n",
      "S3ServiceException:The unspecified location constraint is incompatible for the region specific endpoint this request was sent to.,Status 400,Error IllegalLocationConstraintException,Rid 5E415CZXGQMCJHSJ,ExtRid HX8KWFxCe8R5Zl+91bYDaoduqardXzbhkGuloCQFP69dTh\n",
      "DETAIL:  \n",
      "  -----------------------------------------------\n",
      "  error:  S3ServiceException:The unspecified location constraint is incompatible for the region specific endpoint this request was sent to.,Status 400,Error IllegalLocationConstraintException,Rid 5E415CZXGQMCJHSJ,ExtRid HX8KWFxCe8R5Zl+91bYDaoduqardXzbhkGuloCQFP69dTh\n",
      "  code:      8001\n",
      "  context:   Listing bucket=shehry-test prefix=allusers_pipe.txt\n",
      "  query:     26647\n",
      "  location:  s3_utility.cpp:687\n",
      "  process:   padbmaster [pid=21474]\n",
      "  -----------------------------------------------\n",
      "\n",
      "\n"
     ]
    }
   ],
   "source": [
    "#in this query copy data from s3-bucket and load into table\n",
    "\n",
    "try:\n",
    "    cur.execute(\"\"\"\n",
    "    COPY users FROM 's3://shehry-test/allusers_pipe.txt'\n",
    "CREDENTIALS 'aws_iam_role=arn:aws:iam::509705555503:role/redshift-s3-access'\n",
    "DELIMITER '|'\n",
    "REGION 'ap-east-1'\n",
    "MAXERROR 100;\n",
    "\n",
    "\n",
    "    \"\"\")\n",
    "except psycopg2.Error as e:\n",
    "    print(\"error occured while copying\")\n",
    "    print(e)"
   ]
  },
  {
   "cell_type": "code",
   "execution_count": 33,
   "id": "3f3b7a39",
   "metadata": {},
   "outputs": [
    {
     "name": "stdout",
     "output_type": "stream",
     "text": [
      "error occured while copying\n",
      "column \"tablename\" does not exist in stl_load_errors\n",
      "\n"
     ]
    }
   ],
   "source": [
    "#run the query\n",
    "\n",
    "try:\n",
    "    cur.execute(\"\"\"\n",
    "   SELECT * FROM users;\n",
    "    \"\"\")\n",
    "except psycopg2.Error as e:\n",
    "    print(\"error occured while copying\")\n",
    "    print(e)"
   ]
  },
  {
   "cell_type": "code",
   "execution_count": 32,
   "id": "0e102a22",
   "metadata": {},
   "outputs": [
    {
     "name": "stdout",
     "output_type": "stream",
     "text": [
      "(100, 0, 106395, datetime.datetime(2023, 3, 21, 16, 37, 11, 6284), 1073782902, 25774, 's3://shehry-test-bucket/allusers_pipe.txt                                                                                                                                                                                                                       ', 257, 'city                                                                                                                           ', 'varchar   ', '20        ', 27, '257|HLH30HFQ|Camille|Baker|Truth or Consequences|QC|Etiam@semperpretiumneque.com|(811) 323-6439||||TRUE|TRUE|TRUE||||                                                                                                                                                                                                                                                                                                                                                                                                                                                                                                                                                                                                                                                                                                                                                                                                                                                                                                                                           ', 'Truth or Consequences                                                                                                                                                                                                                                                                                                                                                                                                                                                                                                                                                                                                                                                                                                                                                                                                                                                                                                                                                                                                                                           ', 1204, 'String length exceeds DDL length                                                                    ', 0, 0)\n",
      "(100, 1, 106395, datetime.datetime(2023, 3, 21, 17, 21, 8, 633680), 1073782902, 26221, 's3://shehry-test-bucket/allusers_pipe.txt                                                                                                                                                                                                                       ', 257, 'city                                                                                                                           ', 'varchar   ', '20        ', 27, '257|HLH30HFQ|Camille|Baker|Truth or Consequences|QC|Etiam@semperpretiumneque.com|(811) 323-6439||||TRUE|TRUE|TRUE||||                                                                                                                                                                                                                                                                                                                                                                                                                                                                                                                                                                                                                                                                                                                                                                                                                                                                                                                                           ', 'Truth or Consequences                                                                                                                                                                                                                                                                                                                                                                                                                                                                                                                                                                                                                                                                                                                                                                                                                                                                                                                                                                                                                                           ', 1204, 'String length exceeds DDL length                                                                    ', 0, 0)\n",
      "(100, 0, 106395, datetime.datetime(2023, 3, 21, 17, 21, 27, 405727), 1073782902, 26222, 's3://shehry-test-bucket/allusers_pipe.txt                                                                                                                                                                                                                       ', 257, 'city                                                                                                                           ', 'varchar   ', '20        ', 27, '257|HLH30HFQ|Camille|Baker|Truth or Consequences|QC|Etiam@semperpretiumneque.com|(811) 323-6439||||TRUE|TRUE|TRUE||||                                                                                                                                                                                                                                                                                                                                                                                                                                                                                                                                                                                                                                                                                                                                                                                                                                                                                                                                           ', 'Truth or Consequences                                                                                                                                                                                                                                                                                                                                                                                                                                                                                                                                                                                                                                                                                                                                                                                                                                                                                                                                                                                                                                           ', 1204, 'String length exceeds DDL length                                                                    ', 0, 0)\n",
      "(100, 0, 106395, datetime.datetime(2023, 3, 21, 17, 24, 1, 899606), 1073782902, 26256, 's3://shehry-test-bucket/allusers_pipe.txt                                                                                                                                                                                                                       ', 257, 'city                                                                                                                           ', 'varchar   ', '20        ', 27, '257|HLH30HFQ|Camille|Baker|Truth or Consequences|QC|Etiam@semperpretiumneque.com|(811) 323-6439||||TRUE|TRUE|TRUE||||                                                                                                                                                                                                                                                                                                                                                                                                                                                                                                                                                                                                                                                                                                                                                                                                                                                                                                                                           ', 'Truth or Consequences                                                                                                                                                                                                                                                                                                                                                                                                                                                                                                                                                                                                                                                                                                                                                                                                                                                                                                                                                                                                                                           ', 1204, 'String length exceeds DDL length                                                                    ', 0, 0)\n",
      "(100, 1, 106395, datetime.datetime(2023, 3, 21, 17, 42, 22, 514398), 1073782902, 26441, 's3://shehry-test/allusers_pipe.txt                                                                                                                                                                                                                              ', 257, 'city                                                                                                                           ', 'varchar   ', '20        ', 27, '257|HLH30HFQ|Camille|Baker|Truth or Consequences|QC|Etiam@semperpretiumneque.com|(811) 323-6439||||TRUE|TRUE|TRUE||||                                                                                                                                                                                                                                                                                                                                                                                                                                                                                                                                                                                                                                                                                                                                                                                                                                                                                                                                           ', 'Truth or Consequences                                                                                                                                                                                                                                                                                                                                                                                                                                                                                                                                                                                                                                                                                                                                                                                                                                                                                                                                                                                                                                           ', 1204, 'String length exceeds DDL length                                                                    ', 0, 0)\n",
      "(100, 1, 106395, datetime.datetime(2023, 3, 21, 17, 45, 2, 579987), 1073782902, 26473, 's3://shehry-test/allusers_pipe.txt                                                                                                                                                                                                                              ', 257, 'city                                                                                                                           ', 'varchar   ', '20        ', 27, '257|HLH30HFQ|Camille|Baker|Truth or Consequences|QC|Etiam@semperpretiumneque.com|(811) 323-6439||||TRUE|TRUE|TRUE||||                                                                                                                                                                                                                                                                                                                                                                                                                                                                                                                                                                                                                                                                                                                                                                                                                                                                                                                                           ', 'Truth or Consequences                                                                                                                                                                                                                                                                                                                                                                                                                                                                                                                                                                                                                                                                                                                                                                                                                                                                                                                                                                                                                                           ', 1204, 'String length exceeds DDL length                                                                    ', 0, 0)\n"
     ]
    }
   ],
   "source": [
    "#feth the rows from table\n",
    "\n",
    "row = cur.fetchone()\n",
    "while row:\n",
    "    print(row)\n",
    "    row=cur.fetchone()"
   ]
  },
  {
   "cell_type": "code",
   "execution_count": 39,
   "id": "bc905aca",
   "metadata": {},
   "outputs": [],
   "source": [
    "#close the postgres connection\n",
    "\n",
    "try:\n",
    "    conn.close()\n",
    "except Exception as e:\n",
    "    print(e)"
   ]
  },
  {
   "cell_type": "code",
   "execution_count": 40,
   "id": "e34cd389",
   "metadata": {},
   "outputs": [
    {
     "data": {
      "text/plain": [
       "{'Cluster': {'ClusterIdentifier': 'my-first-redshift',\n",
       "  'NodeType': 'dc2.large',\n",
       "  'ClusterStatus': 'deleting',\n",
       "  'ClusterAvailabilityStatus': 'Modifying',\n",
       "  'MasterUsername': 'awsuser',\n",
       "  'DBName': 'myfirstdb',\n",
       "  'Endpoint': {'Address': 'my-first-redshift.czehrwblbatq.us-east-1.redshift.amazonaws.com',\n",
       "   'Port': 5439},\n",
       "  'ClusterCreateTime': datetime.datetime(2023, 3, 19, 22, 41, 42, 934000, tzinfo=tzutc()),\n",
       "  'AutomatedSnapshotRetentionPeriod': 1,\n",
       "  'ManualSnapshotRetentionPeriod': -1,\n",
       "  'ClusterSecurityGroups': [],\n",
       "  'VpcSecurityGroups': [{'VpcSecurityGroupId': 'sg-00c9a3ca98f432845',\n",
       "    'Status': 'active'}],\n",
       "  'ClusterParameterGroups': [{'ParameterGroupName': 'default.redshift-1.0',\n",
       "    'ParameterApplyStatus': 'in-sync'}],\n",
       "  'ClusterSubnetGroupName': 'default',\n",
       "  'VpcId': 'vpc-0446f2b750060a6e6',\n",
       "  'AvailabilityZone': 'us-east-1e',\n",
       "  'PreferredMaintenanceWindow': 'sun:04:30-sun:05:00',\n",
       "  'PendingModifiedValues': {},\n",
       "  'ClusterVersion': '1.0',\n",
       "  'AllowVersionUpgrade': True,\n",
       "  'NumberOfNodes': 1,\n",
       "  'PubliclyAccessible': True,\n",
       "  'Encrypted': False,\n",
       "  'Tags': [],\n",
       "  'EnhancedVpcRouting': False,\n",
       "  'IamRoles': [{'IamRoleArn': 'arn:aws:iam::509705555503:role/redshift-s3-access',\n",
       "    'ApplyStatus': 'in-sync'}],\n",
       "  'MaintenanceTrackName': 'current',\n",
       "  'DeferredMaintenanceWindows': [],\n",
       "  'NextMaintenanceWindowStartTime': datetime.datetime(2023, 3, 26, 4, 30, tzinfo=tzutc()),\n",
       "  'TotalStorageCapacityInMegaBytes': 400000,\n",
       "  'AquaConfiguration': {'AquaStatus': 'disabled',\n",
       "   'AquaConfigurationStatus': 'auto'}},\n",
       " 'ResponseMetadata': {'RequestId': '74e0b237-a205-47c8-a6e8-a04acedb0816',\n",
       "  'HTTPStatusCode': 200,\n",
       "  'HTTPHeaders': {'x-amzn-requestid': '74e0b237-a205-47c8-a6e8-a04acedb0816',\n",
       "   'content-type': 'text/xml',\n",
       "   'content-length': '2742',\n",
       "   'date': 'Tue, 21 Mar 2023 18:19:17 GMT'},\n",
       "  'RetryAttempts': 0}}"
      ]
     },
     "execution_count": 40,
     "metadata": {},
     "output_type": "execute_result"
    }
   ],
   "source": [
    "#delete the entire cluster\n",
    "\n",
    "redshift.delete_cluster(ClusterIdentifier=DWH_CLUSTER_IDENTIFIER, SkipFinalClusterSnapshot=True)"
   ]
  }
 ],
 "metadata": {
  "kernelspec": {
   "display_name": "Python 3",
   "language": "python",
   "name": "python3"
  },
  "language_info": {
   "codemirror_mode": {
    "name": "ipython",
    "version": 3
   },
   "file_extension": ".py",
   "mimetype": "text/x-python",
   "name": "python",
   "nbconvert_exporter": "python",
   "pygments_lexer": "ipython3",
   "version": "3.8.8"
  }
 },
 "nbformat": 4,
 "nbformat_minor": 5
}
